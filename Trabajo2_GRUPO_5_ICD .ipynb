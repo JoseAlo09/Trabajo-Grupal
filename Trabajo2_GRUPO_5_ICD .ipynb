{
  "cells": [
    {
      "cell_type": "markdown",
      "metadata": {
        "id": "O2F7OkuY69eX"
      },
      "source": [
        "#Trabajo 2: Modelado Supervisado\n",
        "\n",
        "**Curso:** Introducción a Ciencia de Datos y Machine Learning con Python\n",
        "\n",
        "---\n",
        "Integrantes:\n",
        "* Calle Fabricio\n",
        "* Jimenez Bianca\n",
        "* Lalupú Aracely\n",
        "* Naira José"
      ]
    },
    {
      "cell_type": "markdown",
      "metadata": {
        "id": "gEy1SAhG69eh"
      },
      "source": [
        "## 1. Carga de Librerías y Datos"
      ]
    },
    {
      "cell_type": "code",
      "execution_count": 43,
      "metadata": {
        "id": "aDvJ7RTT69ei"
      },
      "outputs": [],
      "source": [
        "# Librerías para manipulación de datos\n",
        "import pandas as pd\n",
        "import numpy as np\n",
        "\n",
        "# Librerías para visualización\n",
        "import matplotlib.pyplot as plt\n",
        "import seaborn as sns\n",
        "\n",
        "# Librerías para modelado y evaluación\n",
        "from sklearn.model_selection import train_test_split, KFold, cross_val_score\n",
        "from sklearn.preprocessing import StandardScaler, PolynomialFeatures\n",
        "from sklearn.linear_model import LinearRegression, LogisticRegression\n",
        "from sklearn.pipeline import Pipeline\n",
        "from sklearn.metrics import mean_squared_error, r2_score\n",
        "from sklearn.metrics import accuracy_score, precision_score, recall_score, f1_score, roc_auc_score, confusion_matrix, classification_report\n",
        "\n",
        "# Statsmodels para inferencia\n",
        "import statsmodels.api as sm\n",
        "\n",
        "# Configuraciones generales\n",
        "plt.style.use('seaborn-v0_8-whitegrid') # Fondo blanco y cuadrícula para gráficos seaborn\n",
        "pd.set_option('display.float_format', lambda x: f'{x:,.4f}') # Formato para floats"
      ]
    },
    {
      "cell_type": "code",
      "execution_count": 44,
      "metadata": {
        "colab": {
          "base_uri": "https://localhost:8080/",
          "height": 223
        },
        "id": "0pdFqyZe69el",
        "outputId": "281509e7-956c-4475-b50c-8582e002827a"
      },
      "outputs": [
        {
          "output_type": "stream",
          "name": "stdout",
          "text": [
            "Drive already mounted at /content/drive; to attempt to forcibly remount, call drive.mount(\"/content/drive\", force_remount=True).\n"
          ]
        },
        {
          "output_type": "execute_result",
          "data": {
            "text/plain": [
              "               CASEID  SREGION  S108N  Vistia_prenatal    Edad   V102  \\\n",
              "0        000100701  2   3.0000 1.0000           8.0000 42.0000 1.0000   \n",
              "1        000101401  2   3.0000 4.0000           3.0000 20.0000 1.0000   \n",
              "2        000105301  2   3.0000 4.0000           4.0000 25.0000 1.0000   \n",
              "3        000107101  2   3.0000 5.0000           9.0000 35.0000 1.0000   \n",
              "4        000201101  2   3.0000 2.0000           6.0000 22.0000 1.0000   \n",
              "\n",
              "   Nivel_riqueza  NACIMIENTOS  year  prenatal_adecuado  educacion_grupo  \\\n",
              "0         3.0000       1.0000  2018                  1           2.0000   \n",
              "1         2.0000       1.0000  2018                  0           3.0000   \n",
              "2         2.0000       1.0000  2018                  0           3.0000   \n",
              "3         5.0000       1.0000  2018                  1           3.0000   \n",
              "4         5.0000       1.0000  2018                  1           2.0000   \n",
              "\n",
              "  educacion_label  urbano           ID_HOGAR  TIPO  \n",
              "0           Media       1        000100701       2  \n",
              "1        Avanzada       1        000101401       2  \n",
              "2        Avanzada       1        000105301       2  \n",
              "3        Avanzada       1        000107101       2  \n",
              "4           Media       1        000201101       2  "
            ],
            "text/html": [
              "\n",
              "  <div id=\"df-f34db06d-62d5-49d3-a9d0-0720f4f872fd\" class=\"colab-df-container\">\n",
              "    <div>\n",
              "<style scoped>\n",
              "    .dataframe tbody tr th:only-of-type {\n",
              "        vertical-align: middle;\n",
              "    }\n",
              "\n",
              "    .dataframe tbody tr th {\n",
              "        vertical-align: top;\n",
              "    }\n",
              "\n",
              "    .dataframe thead th {\n",
              "        text-align: right;\n",
              "    }\n",
              "</style>\n",
              "<table border=\"1\" class=\"dataframe\">\n",
              "  <thead>\n",
              "    <tr style=\"text-align: right;\">\n",
              "      <th></th>\n",
              "      <th>CASEID</th>\n",
              "      <th>SREGION</th>\n",
              "      <th>S108N</th>\n",
              "      <th>Vistia_prenatal</th>\n",
              "      <th>Edad</th>\n",
              "      <th>V102</th>\n",
              "      <th>Nivel_riqueza</th>\n",
              "      <th>NACIMIENTOS</th>\n",
              "      <th>year</th>\n",
              "      <th>prenatal_adecuado</th>\n",
              "      <th>educacion_grupo</th>\n",
              "      <th>educacion_label</th>\n",
              "      <th>urbano</th>\n",
              "      <th>ID_HOGAR</th>\n",
              "      <th>TIPO</th>\n",
              "    </tr>\n",
              "  </thead>\n",
              "  <tbody>\n",
              "    <tr>\n",
              "      <th>0</th>\n",
              "      <td>000100701  2</td>\n",
              "      <td>3.0000</td>\n",
              "      <td>1.0000</td>\n",
              "      <td>8.0000</td>\n",
              "      <td>42.0000</td>\n",
              "      <td>1.0000</td>\n",
              "      <td>3.0000</td>\n",
              "      <td>1.0000</td>\n",
              "      <td>2018</td>\n",
              "      <td>1</td>\n",
              "      <td>2.0000</td>\n",
              "      <td>Media</td>\n",
              "      <td>1</td>\n",
              "      <td>000100701</td>\n",
              "      <td>2</td>\n",
              "    </tr>\n",
              "    <tr>\n",
              "      <th>1</th>\n",
              "      <td>000101401  2</td>\n",
              "      <td>3.0000</td>\n",
              "      <td>4.0000</td>\n",
              "      <td>3.0000</td>\n",
              "      <td>20.0000</td>\n",
              "      <td>1.0000</td>\n",
              "      <td>2.0000</td>\n",
              "      <td>1.0000</td>\n",
              "      <td>2018</td>\n",
              "      <td>0</td>\n",
              "      <td>3.0000</td>\n",
              "      <td>Avanzada</td>\n",
              "      <td>1</td>\n",
              "      <td>000101401</td>\n",
              "      <td>2</td>\n",
              "    </tr>\n",
              "    <tr>\n",
              "      <th>2</th>\n",
              "      <td>000105301  2</td>\n",
              "      <td>3.0000</td>\n",
              "      <td>4.0000</td>\n",
              "      <td>4.0000</td>\n",
              "      <td>25.0000</td>\n",
              "      <td>1.0000</td>\n",
              "      <td>2.0000</td>\n",
              "      <td>1.0000</td>\n",
              "      <td>2018</td>\n",
              "      <td>0</td>\n",
              "      <td>3.0000</td>\n",
              "      <td>Avanzada</td>\n",
              "      <td>1</td>\n",
              "      <td>000105301</td>\n",
              "      <td>2</td>\n",
              "    </tr>\n",
              "    <tr>\n",
              "      <th>3</th>\n",
              "      <td>000107101  2</td>\n",
              "      <td>3.0000</td>\n",
              "      <td>5.0000</td>\n",
              "      <td>9.0000</td>\n",
              "      <td>35.0000</td>\n",
              "      <td>1.0000</td>\n",
              "      <td>5.0000</td>\n",
              "      <td>1.0000</td>\n",
              "      <td>2018</td>\n",
              "      <td>1</td>\n",
              "      <td>3.0000</td>\n",
              "      <td>Avanzada</td>\n",
              "      <td>1</td>\n",
              "      <td>000107101</td>\n",
              "      <td>2</td>\n",
              "    </tr>\n",
              "    <tr>\n",
              "      <th>4</th>\n",
              "      <td>000201101  2</td>\n",
              "      <td>3.0000</td>\n",
              "      <td>2.0000</td>\n",
              "      <td>6.0000</td>\n",
              "      <td>22.0000</td>\n",
              "      <td>1.0000</td>\n",
              "      <td>5.0000</td>\n",
              "      <td>1.0000</td>\n",
              "      <td>2018</td>\n",
              "      <td>1</td>\n",
              "      <td>2.0000</td>\n",
              "      <td>Media</td>\n",
              "      <td>1</td>\n",
              "      <td>000201101</td>\n",
              "      <td>2</td>\n",
              "    </tr>\n",
              "  </tbody>\n",
              "</table>\n",
              "</div>\n",
              "    <div class=\"colab-df-buttons\">\n",
              "\n",
              "  <div class=\"colab-df-container\">\n",
              "    <button class=\"colab-df-convert\" onclick=\"convertToInteractive('df-f34db06d-62d5-49d3-a9d0-0720f4f872fd')\"\n",
              "            title=\"Convert this dataframe to an interactive table.\"\n",
              "            style=\"display:none;\">\n",
              "\n",
              "  <svg xmlns=\"http://www.w3.org/2000/svg\" height=\"24px\" viewBox=\"0 -960 960 960\">\n",
              "    <path d=\"M120-120v-720h720v720H120Zm60-500h600v-160H180v160Zm220 220h160v-160H400v160Zm0 220h160v-160H400v160ZM180-400h160v-160H180v160Zm440 0h160v-160H620v160ZM180-180h160v-160H180v160Zm440 0h160v-160H620v160Z\"/>\n",
              "  </svg>\n",
              "    </button>\n",
              "\n",
              "  <style>\n",
              "    .colab-df-container {\n",
              "      display:flex;\n",
              "      gap: 12px;\n",
              "    }\n",
              "\n",
              "    .colab-df-convert {\n",
              "      background-color: #E8F0FE;\n",
              "      border: none;\n",
              "      border-radius: 50%;\n",
              "      cursor: pointer;\n",
              "      display: none;\n",
              "      fill: #1967D2;\n",
              "      height: 32px;\n",
              "      padding: 0 0 0 0;\n",
              "      width: 32px;\n",
              "    }\n",
              "\n",
              "    .colab-df-convert:hover {\n",
              "      background-color: #E2EBFA;\n",
              "      box-shadow: 0px 1px 2px rgba(60, 64, 67, 0.3), 0px 1px 3px 1px rgba(60, 64, 67, 0.15);\n",
              "      fill: #174EA6;\n",
              "    }\n",
              "\n",
              "    .colab-df-buttons div {\n",
              "      margin-bottom: 4px;\n",
              "    }\n",
              "\n",
              "    [theme=dark] .colab-df-convert {\n",
              "      background-color: #3B4455;\n",
              "      fill: #D2E3FC;\n",
              "    }\n",
              "\n",
              "    [theme=dark] .colab-df-convert:hover {\n",
              "      background-color: #434B5C;\n",
              "      box-shadow: 0px 1px 3px 1px rgba(0, 0, 0, 0.15);\n",
              "      filter: drop-shadow(0px 1px 2px rgba(0, 0, 0, 0.3));\n",
              "      fill: #FFFFFF;\n",
              "    }\n",
              "  </style>\n",
              "\n",
              "    <script>\n",
              "      const buttonEl =\n",
              "        document.querySelector('#df-f34db06d-62d5-49d3-a9d0-0720f4f872fd button.colab-df-convert');\n",
              "      buttonEl.style.display =\n",
              "        google.colab.kernel.accessAllowed ? 'block' : 'none';\n",
              "\n",
              "      async function convertToInteractive(key) {\n",
              "        const element = document.querySelector('#df-f34db06d-62d5-49d3-a9d0-0720f4f872fd');\n",
              "        const dataTable =\n",
              "          await google.colab.kernel.invokeFunction('convertToInteractive',\n",
              "                                                    [key], {});\n",
              "        if (!dataTable) return;\n",
              "\n",
              "        const docLinkHtml = 'Like what you see? Visit the ' +\n",
              "          '<a target=\"_blank\" href=https://colab.research.google.com/notebooks/data_table.ipynb>data table notebook</a>'\n",
              "          + ' to learn more about interactive tables.';\n",
              "        element.innerHTML = '';\n",
              "        dataTable['output_type'] = 'display_data';\n",
              "        await google.colab.output.renderOutput(dataTable, element);\n",
              "        const docLink = document.createElement('div');\n",
              "        docLink.innerHTML = docLinkHtml;\n",
              "        element.appendChild(docLink);\n",
              "      }\n",
              "    </script>\n",
              "  </div>\n",
              "\n",
              "\n",
              "    <div id=\"df-68ea57a4-9191-4e4d-8eef-c8396e1e0617\">\n",
              "      <button class=\"colab-df-quickchart\" onclick=\"quickchart('df-68ea57a4-9191-4e4d-8eef-c8396e1e0617')\"\n",
              "                title=\"Suggest charts\"\n",
              "                style=\"display:none;\">\n",
              "\n",
              "<svg xmlns=\"http://www.w3.org/2000/svg\" height=\"24px\"viewBox=\"0 0 24 24\"\n",
              "     width=\"24px\">\n",
              "    <g>\n",
              "        <path d=\"M19 3H5c-1.1 0-2 .9-2 2v14c0 1.1.9 2 2 2h14c1.1 0 2-.9 2-2V5c0-1.1-.9-2-2-2zM9 17H7v-7h2v7zm4 0h-2V7h2v10zm4 0h-2v-4h2v4z\"/>\n",
              "    </g>\n",
              "</svg>\n",
              "      </button>\n",
              "\n",
              "<style>\n",
              "  .colab-df-quickchart {\n",
              "      --bg-color: #E8F0FE;\n",
              "      --fill-color: #1967D2;\n",
              "      --hover-bg-color: #E2EBFA;\n",
              "      --hover-fill-color: #174EA6;\n",
              "      --disabled-fill-color: #AAA;\n",
              "      --disabled-bg-color: #DDD;\n",
              "  }\n",
              "\n",
              "  [theme=dark] .colab-df-quickchart {\n",
              "      --bg-color: #3B4455;\n",
              "      --fill-color: #D2E3FC;\n",
              "      --hover-bg-color: #434B5C;\n",
              "      --hover-fill-color: #FFFFFF;\n",
              "      --disabled-bg-color: #3B4455;\n",
              "      --disabled-fill-color: #666;\n",
              "  }\n",
              "\n",
              "  .colab-df-quickchart {\n",
              "    background-color: var(--bg-color);\n",
              "    border: none;\n",
              "    border-radius: 50%;\n",
              "    cursor: pointer;\n",
              "    display: none;\n",
              "    fill: var(--fill-color);\n",
              "    height: 32px;\n",
              "    padding: 0;\n",
              "    width: 32px;\n",
              "  }\n",
              "\n",
              "  .colab-df-quickchart:hover {\n",
              "    background-color: var(--hover-bg-color);\n",
              "    box-shadow: 0 1px 2px rgba(60, 64, 67, 0.3), 0 1px 3px 1px rgba(60, 64, 67, 0.15);\n",
              "    fill: var(--button-hover-fill-color);\n",
              "  }\n",
              "\n",
              "  .colab-df-quickchart-complete:disabled,\n",
              "  .colab-df-quickchart-complete:disabled:hover {\n",
              "    background-color: var(--disabled-bg-color);\n",
              "    fill: var(--disabled-fill-color);\n",
              "    box-shadow: none;\n",
              "  }\n",
              "\n",
              "  .colab-df-spinner {\n",
              "    border: 2px solid var(--fill-color);\n",
              "    border-color: transparent;\n",
              "    border-bottom-color: var(--fill-color);\n",
              "    animation:\n",
              "      spin 1s steps(1) infinite;\n",
              "  }\n",
              "\n",
              "  @keyframes spin {\n",
              "    0% {\n",
              "      border-color: transparent;\n",
              "      border-bottom-color: var(--fill-color);\n",
              "      border-left-color: var(--fill-color);\n",
              "    }\n",
              "    20% {\n",
              "      border-color: transparent;\n",
              "      border-left-color: var(--fill-color);\n",
              "      border-top-color: var(--fill-color);\n",
              "    }\n",
              "    30% {\n",
              "      border-color: transparent;\n",
              "      border-left-color: var(--fill-color);\n",
              "      border-top-color: var(--fill-color);\n",
              "      border-right-color: var(--fill-color);\n",
              "    }\n",
              "    40% {\n",
              "      border-color: transparent;\n",
              "      border-right-color: var(--fill-color);\n",
              "      border-top-color: var(--fill-color);\n",
              "    }\n",
              "    60% {\n",
              "      border-color: transparent;\n",
              "      border-right-color: var(--fill-color);\n",
              "    }\n",
              "    80% {\n",
              "      border-color: transparent;\n",
              "      border-right-color: var(--fill-color);\n",
              "      border-bottom-color: var(--fill-color);\n",
              "    }\n",
              "    90% {\n",
              "      border-color: transparent;\n",
              "      border-bottom-color: var(--fill-color);\n",
              "    }\n",
              "  }\n",
              "</style>\n",
              "\n",
              "      <script>\n",
              "        async function quickchart(key) {\n",
              "          const quickchartButtonEl =\n",
              "            document.querySelector('#' + key + ' button');\n",
              "          quickchartButtonEl.disabled = true;  // To prevent multiple clicks.\n",
              "          quickchartButtonEl.classList.add('colab-df-spinner');\n",
              "          try {\n",
              "            const charts = await google.colab.kernel.invokeFunction(\n",
              "                'suggestCharts', [key], {});\n",
              "          } catch (error) {\n",
              "            console.error('Error during call to suggestCharts:', error);\n",
              "          }\n",
              "          quickchartButtonEl.classList.remove('colab-df-spinner');\n",
              "          quickchartButtonEl.classList.add('colab-df-quickchart-complete');\n",
              "        }\n",
              "        (() => {\n",
              "          let quickchartButtonEl =\n",
              "            document.querySelector('#df-68ea57a4-9191-4e4d-8eef-c8396e1e0617 button');\n",
              "          quickchartButtonEl.style.display =\n",
              "            google.colab.kernel.accessAllowed ? 'block' : 'none';\n",
              "        })();\n",
              "      </script>\n",
              "    </div>\n",
              "\n",
              "    </div>\n",
              "  </div>\n"
            ],
            "application/vnd.google.colaboratory.intrinsic+json": {
              "type": "dataframe",
              "variable_name": "df",
              "summary": "{\n  \"name\": \"df\",\n  \"rows\": 68922,\n  \"fields\": [\n    {\n      \"column\": \"CASEID\",\n      \"properties\": {\n        \"dtype\": \"string\",\n        \"num_unique_values\": 65907,\n        \"samples\": [\n          \"      491305401  2\",\n          \"      494104601  2\",\n          \"      081607301  2\"\n        ],\n        \"semantic_type\": \"\",\n        \"description\": \"\"\n      }\n    },\n    {\n      \"column\": \"SREGION\",\n      \"properties\": {\n        \"dtype\": \"number\",\n        \"std\": 0.9633257465426135,\n        \"min\": 1.0,\n        \"max\": 4.0,\n        \"num_unique_values\": 4,\n        \"samples\": [\n          4.0,\n          1.0,\n          3.0\n        ],\n        \"semantic_type\": \"\",\n        \"description\": \"\"\n      }\n    },\n    {\n      \"column\": \"S108N\",\n      \"properties\": {\n        \"dtype\": \"number\",\n        \"std\": 1.001871577674552,\n        \"min\": 0.0,\n        \"max\": 5.0,\n        \"num_unique_values\": 6,\n        \"samples\": [\n          1.0,\n          4.0,\n          0.0\n        ],\n        \"semantic_type\": \"\",\n        \"description\": \"\"\n      }\n    },\n    {\n      \"column\": \"Vistia_prenatal\",\n      \"properties\": {\n        \"dtype\": \"number\",\n        \"std\": 2.9956561836263913,\n        \"min\": 0.0,\n        \"max\": 20.0,\n        \"num_unique_values\": 21,\n        \"samples\": [\n          8.0,\n          15.0,\n          16.0\n        ],\n        \"semantic_type\": \"\",\n        \"description\": \"\"\n      }\n    },\n    {\n      \"column\": \"Edad\",\n      \"properties\": {\n        \"dtype\": \"number\",\n        \"std\": 6.782805249136284,\n        \"min\": 12.0,\n        \"max\": 49.0,\n        \"num_unique_values\": 38,\n        \"samples\": [\n          16.0,\n          12.0,\n          22.0\n        ],\n        \"semantic_type\": \"\",\n        \"description\": \"\"\n      }\n    },\n    {\n      \"column\": \"V102\",\n      \"properties\": {\n        \"dtype\": \"number\",\n        \"std\": 0.4716433801194489,\n        \"min\": 1.0,\n        \"max\": 2.0,\n        \"num_unique_values\": 2,\n        \"samples\": [\n          2.0,\n          1.0\n        ],\n        \"semantic_type\": \"\",\n        \"description\": \"\"\n      }\n    },\n    {\n      \"column\": \"Nivel_riqueza\",\n      \"properties\": {\n        \"dtype\": \"number\",\n        \"std\": 1.302868594763294,\n        \"min\": 1.0,\n        \"max\": 5.0,\n        \"num_unique_values\": 5,\n        \"samples\": [\n          2.0,\n          1.0\n        ],\n        \"semantic_type\": \"\",\n        \"description\": \"\"\n      }\n    },\n    {\n      \"column\": \"NACIMIENTOS\",\n      \"properties\": {\n        \"dtype\": \"number\",\n        \"std\": 0.3905503735066938,\n        \"min\": 0.0,\n        \"max\": 4.0,\n        \"num_unique_values\": 5,\n        \"samples\": [\n          2.0,\n          0.0\n        ],\n        \"semantic_type\": \"\",\n        \"description\": \"\"\n      }\n    },\n    {\n      \"column\": \"year\",\n      \"properties\": {\n        \"dtype\": \"number\",\n        \"std\": 1,\n        \"min\": 2018,\n        \"max\": 2023,\n        \"num_unique_values\": 6,\n        \"samples\": [\n          2018,\n          2019\n        ],\n        \"semantic_type\": \"\",\n        \"description\": \"\"\n      }\n    },\n    {\n      \"column\": \"prenatal_adecuado\",\n      \"properties\": {\n        \"dtype\": \"number\",\n        \"std\": 0,\n        \"min\": 0,\n        \"max\": 1,\n        \"num_unique_values\": 2,\n        \"samples\": [\n          0,\n          1\n        ],\n        \"semantic_type\": \"\",\n        \"description\": \"\"\n      }\n    },\n    {\n      \"column\": \"educacion_grupo\",\n      \"properties\": {\n        \"dtype\": \"number\",\n        \"std\": 0.4892715546343067,\n        \"min\": 1.0,\n        \"max\": 3.0,\n        \"num_unique_values\": 3,\n        \"samples\": [\n          2.0,\n          3.0\n        ],\n        \"semantic_type\": \"\",\n        \"description\": \"\"\n      }\n    },\n    {\n      \"column\": \"educacion_label\",\n      \"properties\": {\n        \"dtype\": \"category\",\n        \"num_unique_values\": 3,\n        \"samples\": [\n          \"Media\",\n          \"Avanzada\"\n        ],\n        \"semantic_type\": \"\",\n        \"description\": \"\"\n      }\n    },\n    {\n      \"column\": \"urbano\",\n      \"properties\": {\n        \"dtype\": \"number\",\n        \"std\": 0,\n        \"min\": 0,\n        \"max\": 1,\n        \"num_unique_values\": 2,\n        \"samples\": [\n          0,\n          1\n        ],\n        \"semantic_type\": \"\",\n        \"description\": \"\"\n      }\n    },\n    {\n      \"column\": \"ID_HOGAR\",\n      \"properties\": {\n        \"dtype\": \"string\",\n        \"num_unique_values\": 65906,\n        \"samples\": [\n          \"      448115301  \",\n          \"      301602401  \"\n        ],\n        \"semantic_type\": \"\",\n        \"description\": \"\"\n      }\n    },\n    {\n      \"column\": \"TIPO\",\n      \"properties\": {\n        \"dtype\": \"number\",\n        \"std\": 0,\n        \"min\": 2,\n        \"max\": 2,\n        \"num_unique_values\": 1,\n        \"samples\": [\n          2\n        ],\n        \"semantic_type\": \"\",\n        \"description\": \"\"\n      }\n    }\n  ]\n}"
            }
          },
          "metadata": {},
          "execution_count": 44
        }
      ],
      "source": [
        "# Carga de datos\n",
        "from google.colab import drive\n",
        "drive.mount('/content/drive')\n",
        "\n",
        "# Dataset limpio y curado del Trabajo 1, con nombre del archivo y la función adecuada\n",
        "# Please ensure the file path is correct or upload the file to this location.\n",
        "df = pd.read_csv('/content/drive/MyDrive/Trabajo ML PARTE 2/final_df_limpio (1).csv')\n",
        "\n",
        "# Vista previa de los datos cargados (5primeras filas)\n",
        "df.head()"
      ]
    },
    {
      "cell_type": "markdown",
      "metadata": {
        "id": "PQB4y43u69em"
      },
      "source": [
        "## 2. Separación de Datos: Training y Test (Paso Crítico)\n",
        "\n",
        "Este es uno de los pasos más importantes. Reservamos un conjunto de datos (`test`) que **NO USAREMOS** para entrenar, ajustar o comparar modelos. Solo lo usaremos **UNA VEZ** al final para reportar el rendimiento del mejor modelo elegido."
      ]
    },
    {
      "cell_type": "code",
      "execution_count": 45,
      "metadata": {
        "id": "uAnL--5C69en",
        "colab": {
          "base_uri": "https://localhost:8080/"
        },
        "outputId": "d1e37195-ed02-44e7-8261-b11d1a185586"
      },
      "outputs": [
        {
          "output_type": "stream",
          "name": "stdout",
          "text": [
            "Tamaño del conjunto de entrenamiento: 51691 filas\n",
            "Tamaño del conjunto de prueba: 17231 filas\n"
          ]
        }
      ],
      "source": [
        "# --- Define tus variables ---\n",
        "# Reemplazamos 'variable_objetivo' con el nombre de nuestra variable dependiente (Y).\n",
        "TARGET = 'prenatal_adecuado'\n",
        "\n",
        "# Reemplazamos 'feature_1', etc. con los nombres de las variables independientes (X).\n",
        "# Corrected column names based on df.head() output\n",
        "FEATURES = ['educacion_grupo', 'Edad', 'Nivel_riqueza', 'SREGION', 'urbano']\n",
        "\n",
        "\n",
        "# Definimos X e y\n",
        "X = df[FEATURES]\n",
        "y = df[TARGET]\n",
        "\n",
        "# --- Separación de datos ---\n",
        "# Usamos random_state para asegurar que la separación sea siempre la misma (reproducibilidad).\n",
        "X_train, X_test, y_train, y_test = train_test_split(X, y, test_size=0.25, random_state=42)\n",
        "\n",
        "print(f\"Tamaño del conjunto de entrenamiento: {len(X_train)} filas\")\n",
        "print(f\"Tamaño del conjunto de prueba: {len(X_test)} filas\")"
      ]
    },
    {
      "cell_type": "markdown",
      "metadata": {
        "id": "HTIRlwBp69eo"
      },
      "source": [
        "## 3. Modelo Base (Baseline)\n",
        "\n",
        "Antes de construir modelos complejos, establecemos un \"modelo ingenuo\" o baseline. Este modelo es muy simple y sirve como punto de referencia. Cualquier modelo que construyamos debe, como mínimo, superar a este baseline.\n",
        "\n",
        "-   **Para regresión:** El baseline suele predecir el valor medio de la variable objetivo para todas las observaciones.\n",
        "-   **Para clasificación:** El baseline suele predecir la clase mayoritaria (moda)."
      ]
    },
    {
      "cell_type": "code",
      "execution_count": 46,
      "metadata": {
        "id": "VeYW2dp569ep",
        "colab": {
          "base_uri": "https://localhost:8080/"
        },
        "outputId": "56e639c1-7561-40ab-ea7c-556c1ddd1b3b"
      },
      "outputs": [
        {
          "output_type": "stream",
          "name": "stdout",
          "text": [
            "Predicción del Baseline (Media de y_train): 0.8910\n",
            "MSE del Baseline en Training: 0.0971\n"
          ]
        }
      ],
      "source": [
        "\n",
        "# Baseline para Regresión (predecir la media)\n",
        "mean_baseline_prediction = y_train.mean()\n",
        "\n",
        "# Calculamos el MSE del baseline en el conjunto de entrenamiento\n",
        "baseline_mse = mean_squared_error(y_train, [mean_baseline_prediction] * len(y_train))\n",
        "\n",
        "print(f\"Predicción del Baseline (Media de y_train): {mean_baseline_prediction:,.4f}\")\n",
        "print(f\"MSE del Baseline en Training: {baseline_mse:,.4f}\")"
      ]
    },
    {
      "cell_type": "code",
      "source": [
        "# Probamos si los datos permiten hacer el baseline para clasificación\n",
        "# Encontrar la clase mayoritaria (moda)\n",
        "most_frequent_class = y_train.mode()[0]\n",
        "\n",
        "# Crear las predicciones baseline\n",
        "baseline_predictions_clf = [most_frequent_class] * len(y_train)\n",
        "\n",
        "# Calcular la Accuracy del baseline\n",
        "from sklearn.metrics import accuracy_score\n",
        "baseline_accuracy = accuracy_score(y_train, baseline_predictions_clf)\n",
        "\n",
        "print(f\"Clase Mayoritaria del Baseline: {most_frequent_class}\")\n",
        "print(f\"Accuracy del Baseline en Training: {baseline_accuracy:,.4f}\")"
      ],
      "metadata": {
        "colab": {
          "base_uri": "https://localhost:8080/"
        },
        "id": "OPe42Uh-Whtr",
        "outputId": "2d8de00a-e22c-4890-9e2e-b5cfbf65d59c"
      },
      "execution_count": 47,
      "outputs": [
        {
          "output_type": "stream",
          "name": "stdout",
          "text": [
            "Clase Mayoritaria del Baseline: 1\n",
            "Accuracy del Baseline en Training: 0.8910\n"
          ]
        }
      ]
    },
    {
      "cell_type": "markdown",
      "metadata": {
        "id": "U-IIP1dL69er"
      },
      "source": [
        "---\n",
        "# 4. Ruta de Modelado\n",
        "A continuación, se presentan las dos rutas posibles para la comparación de modelos. **Elige y desarrolla solo una de ellas.**\n",
        "\n",
        "### **Opción A: Comparar dos modelos de Regresión (OLS Simple vs. OLS Complejo)**\n",
        "---   \n",
        "\n",
        "### **Opción B: Comparar Regresión (OLS) vs. Clasificación (Logit)**\n",
        "\n",
        "---\n",
        "\n",
        "\n",
        "\n",
        "Ruta elegida: Opción B (Regresión vs. Clasificación)\n",
        "Dado que la variable dependiente (prenatal_adecuado) es binaria (0 = inadecuado, 1 = adecuado), se comparan dos enfoques:\n",
        "un modelo de Regresión Lineal (OLS) y un modelo de Clasificación (Logit).\n",
        "Aunque OLS no es el método más apropiado para variables binarias, se incluye para fines comparativos, siguiendo la estructura propuesta por el docente."
      ]
    },
    {
      "cell_type": "markdown",
      "metadata": {
        "id": "lHRANOQW69ey"
      },
      "source": [
        "#### 4.B.1. Creación de la Variable Objetivo de Clasificación\n",
        "\n",
        "Primero, debemos crear una variable objetivo binaria (0 o 1) a partir de nuestra variable continua. Un método común es usar la media o la mediana como punto de corte."
      ]
    },
    {
      "cell_type": "code",
      "execution_count": 48,
      "metadata": {
        "id": "1hHRMRhH69ez",
        "colab": {
          "base_uri": "https://localhost:8080/"
        },
        "outputId": "3f283df6-82e5-4636-bba7-089ce6f46d8b"
      },
      "outputs": [
        {
          "output_type": "stream",
          "name": "stdout",
          "text": [
            "Distribución de la variable objetivo original:\n",
            "prenatal_adecuado\n",
            "1   0.8910\n",
            "0   0.1090\n",
            "Name: proportion, dtype: float64\n"
          ]
        }
      ],
      "source": [
        "#'prenatal_adecuado' (TARGET) ya está codificada como 0 = inadecuado, 1 = adecuado, así que:\n",
        "\n",
        "print(\"Distribución de la variable objetivo original:\")\n",
        "print(df['prenatal_adecuado'].value_counts(normalize=True))\n"
      ]
    },
    {
      "cell_type": "markdown",
      "source": [
        "El 89 % de los casos tienen atención prenatal adecuada.\n",
        "\n",
        "El 11 % no la tienen."
      ],
      "metadata": {
        "id": "gVmKfJlkLQLU"
      }
    },
    {
      "cell_type": "markdown",
      "metadata": {
        "id": "YYEQkEbE69ez"
      },
      "source": [
        "Ahora, necesitamos hacer una **nueva separación train-test** para esta tarea de clasificación."
      ]
    },
    {
      "cell_type": "code",
      "execution_count": 49,
      "metadata": {
        "id": "qGrZMzLi69ez",
        "colab": {
          "base_uri": "https://localhost:8080/"
        },
        "outputId": "185f143e-fa0a-406e-bc85-66059403b4a6"
      },
      "outputs": [
        {
          "output_type": "stream",
          "name": "stdout",
          "text": [
            "--- Tamaños para la tarea de clasificación ---\n",
            "Training: 51691 filas, Test: 17231 filas\n"
          ]
        }
      ],
      "source": [
        "# Definimos X e y para la clasificación (usamos la misma variable binaria original)\n",
        "X_class = df[FEATURES]\n",
        "y_class = df['prenatal_adecuado']\n",
        "\n",
        "# Separación de datos para clasificación\n",
        "X_train_c, X_test_c, y_train_c, y_test_c = train_test_split(X_class, y_class, test_size=0.25, random_state=42, stratify=y_class)\n",
        "\n",
        "print(\"--- Tamaños para la tarea de clasificación ---\")\n",
        "print(f\"Training: {len(X_train_c)} filas, Test: {len(X_test_c)} filas\")"
      ]
    },
    {
      "cell_type": "code",
      "source": [
        "from sklearn.dummy import DummyClassifier\n",
        "from sklearn.model_selection import cross_val_score\n",
        "\n",
        "# Creamos el modelo Dummy (predice siempre la clase más frecuente)\n",
        "dummy_clf = DummyClassifier(strategy=\"most_frequent\")\n",
        "\n",
        "# Validación cruzada (por ejemplo, k=5)\n",
        "dummy_scores = cross_val_score(dummy_clf, X_class, y_class, cv=5, scoring=\"accuracy\")\n",
        "\n",
        "print(f\"Accuracy promedio del Dummy (CV): {dummy_scores.mean():.4f} (+/- {dummy_scores.std():.4f})\")\n"
      ],
      "metadata": {
        "colab": {
          "base_uri": "https://localhost:8080/"
        },
        "id": "j0dPkUdSdA1z",
        "outputId": "366a86d7-69b7-4ec8-fadf-e4d421e8eb6e"
      },
      "execution_count": 50,
      "outputs": [
        {
          "output_type": "stream",
          "name": "stdout",
          "text": [
            "Accuracy promedio del Dummy (CV): 0.8910 (+/- 0.0000)\n"
          ]
        }
      ]
    },
    {
      "cell_type": "markdown",
      "metadata": {
        "id": "I8wLPN1369e0"
      },
      "source": [
        "#### 4.B.2. Modelo 1: Regresión Lineal (OLS)\n",
        "\n",
        "Para esta parte, puedes reutilizar el análisis y los resultados del mejor modelo de regresión que encontraste en la **Opción A**. El objetivo es tener su métrica (MSE Promedio de CV) como referencia."
      ]
    },
    {
      "cell_type": "markdown",
      "source": [
        "##### a) Inferencia con `statsmodels`\n",
        "Usamos `statsmodels` para obtener una tabla de resultados completa que nos permita interpretar los coeficientes, su significancia estadística (p-values) y la bondad de ajuste general del modelo ($R^2$ ajustado). **Este análisis se hace sobre el conjunto de entrenamiento.**"
      ],
      "metadata": {
        "id": "oMU110e_FytG"
      }
    },
    {
      "cell_type": "code",
      "source": [
        "# Selecciona un subconjunto de variables para el modelo simple\n",
        "features_simple = ['educacion_grupo', 'urbano'] #Nivel educativo y urbano/rural\n",
        "X_train_simple = X_train[features_simple]\n",
        "\n",
        "# Añadimos una constante (intercepto) al modelo\n",
        "X_train_sm_simple = sm.add_constant(X_train_simple)\n",
        "\n",
        "# Ajustamos el modelo OLS\n",
        "model_ols_simple = sm.OLS(y_train, X_train_sm_simple).fit()\n",
        "\n",
        "# Mostramos el resumen de resultados\n",
        "print(model_ols_simple.summary())"
      ],
      "metadata": {
        "colab": {
          "base_uri": "https://localhost:8080/"
        },
        "id": "kFNPltH4ENyq",
        "outputId": "3b5f57c2-7d62-460a-b0b1-f8b12b78538f"
      },
      "execution_count": 54,
      "outputs": [
        {
          "output_type": "stream",
          "name": "stdout",
          "text": [
            "                            OLS Regression Results                            \n",
            "==============================================================================\n",
            "Dep. Variable:      prenatal_adecuado   R-squared:                       0.005\n",
            "Model:                            OLS   Adj. R-squared:                  0.005\n",
            "Method:                 Least Squares   F-statistic:                     117.8\n",
            "Date:                Sat, 18 Oct 2025   Prob (F-statistic):           8.77e-52\n",
            "Time:                        02:18:33   Log-Likelihood:                -12956.\n",
            "No. Observations:               51691   AIC:                         2.592e+04\n",
            "Df Residuals:                   51688   BIC:                         2.595e+04\n",
            "Df Model:                           2                                         \n",
            "Covariance Type:            nonrobust                                         \n",
            "===================================================================================\n",
            "                      coef    std err          t      P>|t|      [0.025      0.975]\n",
            "-----------------------------------------------------------------------------------\n",
            "const               0.7929      0.007    120.873      0.000       0.780       0.806\n",
            "educacion_grupo     0.0423      0.003     14.222      0.000       0.037       0.048\n",
            "urbano              0.0018      0.003      0.576      0.564      -0.004       0.008\n",
            "==============================================================================\n",
            "Omnibus:                    24327.750   Durbin-Watson:                   2.003\n",
            "Prob(Omnibus):                  0.000   Jarque-Bera (JB):            92563.384\n",
            "Skew:                          -2.492   Prob(JB):                         0.00\n",
            "Kurtosis:                       7.258   Cond. No.                         13.7\n",
            "==============================================================================\n",
            "\n",
            "Notes:\n",
            "[1] Standard Errors assume that the covariance matrix of the errors is correctly specified.\n"
          ]
        }
      ]
    },
    {
      "cell_type": "markdown",
      "source": [
        "El modelo de Regresión Lineal (OLS) se estimó con el objetivo de analizar la relación entre el nivel educativo de la madre, la zona de residencia y la variable dependiente prenatal_adecuado.\n",
        "\n",
        "* Coeficientes:\n",
        "Los resultados muestran que el nivel educativo de la madre (coef. = 0.0423) tiene un efecto positivo y estadísticamente significativo sobre la atención prenatal adecuada. Esto indica que, en promedio, un incremento en el nivel educativo se asocia con un aumento del 4.2 % en la probabilidad de recibir atención prenatal adecuada, manteniendo las demás variables constantes.\n",
        "Por otro lado, la variable urbano (coef. = 0.0018) no resulta significativa, lo que sugiere que residir en zona urbana o rural no presenta una diferencia estadísticamente relevante en este modelo simple. Los signos de los coeficientes son consistentes con la teoría y la intuición: un mayor nivel educativo suele asociarse con mejores prácticas de salud materna.\n",
        "\n",
        "* P-values:\n",
        "El nivel educativo tiene un p-value < 0.001, siendo un predictor estadísticamente significativo. En contraste, el p-value de la variable urbano (0.564) indica que su efecto no es significativo en este modelo.\n",
        "\n",
        "* R-cuadrado ajustado:\n",
        "El modelo presenta un R² ajustado de 0.005, lo que significa que explica aproximadamente el 0.5 % de la variabilidad en la variable dependiente. Aunque bajo, esto es común en estudios sociales con alta heterogeneidad, donde los comportamientos dependen de múltiples factores no observados.\n",
        "\n",
        "* Diagnósticos:\n",
        "El estadístico de Durbin-Watson (≈ 2.00) sugiere ausencia de autocorrelación en los errores. Sin embargo, los resultados del test de normalidad (Omnibus y Jarque-Bera) indican desviaciones respecto a la normalidad, lo cual es frecuente en variables binarias. No se observan señales severas de multicolinealidad (Cond. No. = 13.7), por lo que los coeficientes estimados son estables.\n",
        "\n",
        "* Conclusión:\n",
        "El modelo OLS confirma que el nivel educativo de la madre es un determinante relevante del acceso a una atención prenatal adecuada, aunque su poder explicativo es limitado. Este análisis lineal básico permite una primera aproximación, pero modelos no lineales como la regresión logística pueden capturar mejor la naturaleza binaria del fenómeno estudiado."
      ],
      "metadata": {
        "id": "mSoYJQ-XHyGl"
      }
    },
    {
      "cell_type": "markdown",
      "source": [
        "##### b) Predicción y Validación Cruzada con `scikit-learn`\n",
        "Ahora evaluamos la capacidad predictiva del modelo usando Validación Cruzada (CV). Esto nos da una estimación más robusta de cómo se comportará el modelo en datos no vistos, promediando el rendimiento a través de múltiples divisiones (`k-folds`) del conjunto de entrenamiento."
      ],
      "metadata": {
        "id": "bwYwrW0_GB9G"
      }
    },
    {
      "cell_type": "code",
      "source": [
        "# Definimos el modelo de regresión lineal\n",
        "model_sk_simple = LinearRegression()\n",
        "\n",
        "# Configuramos la Validación Cruzada (k=5 o k=10 es común)\n",
        "k = 5 #Elijo el numero de folds\n",
        "# Calculamos el MSE usando cross_val_score.\n",
        "# Nota: scikit-learn usa 'neg_mean_squared_error', por lo que invertimos el signo.\n",
        "mse_scores_simple = -cross_val_score(model_sk_simple, X_train_simple, y_train, cv=k, scoring='neg_mean_squared_error')\n",
        "#Si usan series de tiempo, usen TimeSeriesSplit en vez!!\n",
        "#from sklearn.model_selection import TimeSeriesSplit\n",
        "\n",
        "#tscv = TimeSeriesSplit(n_splits=5)\n",
        "#mse_scores = -cross_val_score(modelo, X, y, cv=tscv, scoring='neg_mean_squared_error')\n",
        "\n",
        "\n",
        "print(f\"MSEs en cada fold (CV): {mse_scores_simple}\")\n",
        "print(f\"MSE Promedio (CV): {np.mean(mse_scores_simple):,.4f} (+/- {np.std(mse_scores_simple):,.4f})\")"
      ],
      "metadata": {
        "colab": {
          "base_uri": "https://localhost:8080/"
        },
        "id": "xBpnjxOQGDbp",
        "outputId": "4f013e36-024d-4717-a289-7ab58c32ed94"
      },
      "execution_count": 55,
      "outputs": [
        {
          "output_type": "stream",
          "name": "stdout",
          "text": [
            "MSEs en cada fold (CV): [0.09736964 0.09925569 0.09620915 0.09505403 0.09547721]\n",
            "MSE Promedio (CV): 0.0967 (+/- 0.0015)\n"
          ]
        }
      ]
    },
    {
      "cell_type": "markdown",
      "source": [
        "El modelo de regresión lineal simple fue evaluado mediante una validación cruzada con k = 5 folds, utilizando como métrica el Error Cuadrático Medio (MSE).\n",
        "\n",
        "El resultado muestra un MSE promedio de 0.1045 con una desviación estándar de 0.0021, lo que indica que el modelo tiene un error de predicción promedio bajo y bastante estable entre los distintos subconjuntos de validación.\n",
        "\n",
        "Esto significa que, en promedio, las predicciones del modelo difieren del valor real de la variable prenatal_adecuado en aproximadamente 0.10 unidades, lo cual es razonable considerando que la variable objetivo es binaria (0/1).\n",
        "\n",
        "La baja variabilidad del MSE (± 0.0021) sugiere que el modelo tiene rendimiento consistente y no depende fuertemente de cómo se dividan los datos, lo cual es una buena señal de estabilidad.\n",
        "\n",
        "Sin embargo, dado el bajo R² ajustado (0.005) obtenido previamente, el modelo simple no explica bien la variabilidad total del fenómeno, aunque sí muestra una capacidad predictiva estable. Esto refuerza la idea de que la relación entre las variables no es puramente lineal y que enfoques más apropiados, como la regresión logística, pueden capturar mejor la naturaleza del problema."
      ],
      "metadata": {
        "id": "FO93TJmRI26w"
      }
    },
    {
      "cell_type": "markdown",
      "metadata": {
        "id": "f2ofxKTJ69e1"
      },
      "source": [
        "#### 4.B.3. Modelo 2: Regresión Logística"
      ]
    },
    {
      "cell_type": "markdown",
      "metadata": {
        "id": "iBFuWJp_69e1"
      },
      "source": [
        "##### a) Inferencia con `statsmodels`"
      ]
    },
    {
      "cell_type": "code",
      "execution_count": 56,
      "metadata": {
        "id": "XxtHFn4p69e1",
        "colab": {
          "base_uri": "https://localhost:8080/"
        },
        "outputId": "965d51e4-0ef9-4d04-96ca-8e88ae84558a"
      },
      "outputs": [
        {
          "output_type": "stream",
          "name": "stdout",
          "text": [
            "Optimization terminated successfully.\n",
            "         Current function value: 0.340764\n",
            "         Iterations 6\n",
            "                           Logit Regression Results                           \n",
            "==============================================================================\n",
            "Dep. Variable:      prenatal_adecuado   No. Observations:                51691\n",
            "Model:                          Logit   Df Residuals:                    51685\n",
            "Method:                           MLE   Df Model:                            5\n",
            "Date:                Sat, 18 Oct 2025   Pseudo R-squ.:                 0.01069\n",
            "Time:                        02:26:21   Log-Likelihood:                -17614.\n",
            "converged:                       True   LL-Null:                       -17805.\n",
            "Covariance Type:            nonrobust   LLR p-value:                 4.207e-80\n",
            "===================================================================================\n",
            "                      coef    std err          z      P>|z|      [0.025      0.975]\n",
            "-----------------------------------------------------------------------------------\n",
            "const               0.8494      0.110      7.690      0.000       0.633       1.066\n",
            "educacion_grupo     0.2787      0.035      7.893      0.000       0.210       0.348\n",
            "Edad                0.0078      0.002      3.701      0.000       0.004       0.012\n",
            "Nivel_riqueza       0.1900      0.017     11.215      0.000       0.157       0.223\n",
            "SREGION             0.0337      0.017      2.009      0.045       0.001       0.067\n",
            "urbano             -0.2312      0.037     -6.222      0.000      -0.304      -0.158\n",
            "===================================================================================\n",
            "\n",
            "--- Odds Ratios ---\n",
            "const             2.3382\n",
            "educacion_grupo   1.3215\n",
            "Edad              1.0078\n",
            "Nivel_riqueza     1.2092\n",
            "SREGION           1.0342\n",
            "urbano            0.7936\n",
            "dtype: float64\n"
          ]
        }
      ],
      "source": [
        "# Usamos las mismas variables que en la tarea de regresión\n",
        "X_train_c_sm = sm.add_constant(X_train_c)\n",
        "\n",
        "# Ajustamos el modelo Logit\n",
        "model_logit = sm.Logit(y_train_c, X_train_c_sm).fit()\n",
        "\n",
        "# Imprimimos el resumen\n",
        "print(model_logit.summary())\n",
        "\n",
        "# Para interpretar los coeficientes, es más fácil usar los Odds Ratios\n",
        "print(\"\\n--- Odds Ratios ---\")\n",
        "print(np.exp(model_logit.params))"
      ]
    },
    {
      "cell_type": "markdown",
      "metadata": {
        "id": "mL0SDxEr69e2"
      },
      "source": [
        "**Interpretación de Resultados (Logit):**\n",
        "\n",
        "El modelo Logit fue estimado para analizar los factores asociados a la probabilidad de recibir atención prenatal adecuada. El ajuste del modelo fue exitoso y altamente significativo (LLR p-value < 0.001), con un Pseudo R² de 0.0107, lo que indica una leve pero real mejora respecto a un modelo sin predictores. Aunque el valor es bajo, esto es habitual en fenómenos sociales y de salud donde intervienen múltiples factores no observados.\n",
        "\n",
        "Odds Ratios\n",
        "\n",
        "Los odds ratios permiten interpretar los efectos de cada variable sobre la probabilidad de recibir atención prenatal adecuada:\n",
        "\n",
        "* Constante (OR = 2.34): representa la probabilidad base del evento cuando todas las demás variables son cero.\n",
        "\n",
        "* Nivel educativo del grupo (OR = 1.32): por cada incremento en el nivel educativo, las probabilidades de recibir atención prenatal adecuada aumentan aproximadamente 32 %.\n",
        "\n",
        "* Edad (OR = 1.01): cada año adicional de edad de la madre incrementa ligeramente (0.8 %) las probabilidades de recibir atención prenatal adecuada.\n",
        "\n",
        "* Nivel de riqueza (OR = 1.21): las madres pertenecientes a hogares con mayor nivel de riqueza tienen cerca de 21 % más probabilidad de recibir atención prenatal adecuada.\n",
        "\n",
        "* Región (OR = 1.03): las diferencias regionales presentan un efecto positivo leve, sugiriendo pequeñas variaciones geográficas en el acceso a controles prenatales.\n",
        "\n",
        "* Zona de residencia urbana (OR = 0.79): vivir en zona urbana reduce en un 21 % las probabilidades de recibir atención prenatal adecuada respecto a las zonas rurales, controlando por las demás variables. Este resultado puede reflejar desigualdades en el uso o acceso a los servicios de salud urbanos o una mayor proporción de embarazos sin controles entre ciertos grupos urbanos.\n",
        "\n",
        "P-values\n",
        "\n",
        "Todas las variables muestran p-values menores a 0.05, por lo tanto, son estadísticamente significativas. Esto indica que cada una contribuye de forma independiente a explicar la probabilidad de atención prenatal adecuada.\n",
        "\n",
        "Pseudo R-cuadrado\n",
        "\n",
        "El Pseudo R² = 0.0107 sugiere que el modelo explica cerca del 1 % de la variación en la variable dependiente. Aunque esta cifra es baja, es consistente con modelos sociales donde los comportamientos están determinados por una amplia variedad de factores no incluidos en el análisis."
      ]
    },
    {
      "cell_type": "markdown",
      "metadata": {
        "id": "HXshKXgr69e2"
      },
      "source": [
        "##### b) Predicción y Validación Cruzada con `scikit-learn`"
      ]
    },
    {
      "cell_type": "code",
      "execution_count": 57,
      "metadata": {
        "id": "Rdx4vR4869e2",
        "colab": {
          "base_uri": "https://localhost:8080/"
        },
        "outputId": "82dd906b-4f7c-4260-d8df-a3538583570d"
      },
      "outputs": [
        {
          "output_type": "stream",
          "name": "stdout",
          "text": [
            "--- Resultados de Validación Cruzada (Modelo Logit) ---\n",
            "Accuracy Promedio (CV): 0.8910 (+/- 0.0000)\n",
            "F1-Score Promedio (CV): 0.9424 (+/- 0.0000)\n"
          ]
        }
      ],
      "source": [
        "# Definimos el modelo de regresión logística\n",
        "model_sk_logit = LogisticRegression(random_state=42, max_iter=1000)\n",
        "\n",
        "# Configuramos la Validación Cruzada\n",
        "k = 5 #Elijo el numero de folds\n",
        "\n",
        "# Calculamos las métricas de interés usando cross_val_score\n",
        "# Elige la métrica más importante para tu problema (ej. 'f1', 'accuracy', 'roc_auc')\n",
        "f1_scores_logit = cross_val_score(model_sk_logit, X_train_c, y_train_c, cv=k, scoring='f1') #Modifica scoring.\n",
        "accuracy_scores_logit = cross_val_score(model_sk_logit, X_train_c, y_train_c, cv=k, scoring='accuracy')\n",
        "\n",
        "print(\"--- Resultados de Validación Cruzada (Modelo Logit) ---\")\n",
        "print(f\"Accuracy Promedio (CV): {np.mean(accuracy_scores_logit):.4f} (+/- {np.std(accuracy_scores_logit):.4f})\")\n",
        "print(f\"F1-Score Promedio (CV): {np.mean(f1_scores_logit):.4f} (+/- {np.std(f1_scores_logit):.4f})\")"
      ]
    },
    {
      "cell_type": "markdown",
      "source": [
        "Se aplicó una validación cruzada de 5 folds para evaluar el desempeño del modelo logístico.\n",
        "El modelo obtuvo un accuracy promedio de 0.8910 (±0.0000) y un F1-score promedio de 0.9424 (±0.0000).\n",
        "Estos resultados son similares al modelo DummyClassifier, lo cual sugiere que el modelo logístico no mejora sustancialmente el desempeño global.\n",
        "Sin embargo, el F1-score elevado indica que el modelo tiene un buen desempeño para la clase mayoritaria (“prenatal adecuado”)."
      ],
      "metadata": {
        "id": "5LBnZqnhM7ZL"
      }
    },
    {
      "cell_type": "markdown",
      "metadata": {
        "id": "GA80j1sv69e3"
      },
      "source": [
        "#### 4.B.4. Comparación y Decisión del Problema\n",
        "\n",
        "Concluimos qué **formulación del problema** es más útil o informativa para tus preguntas de investigación."
      ]
    },
    {
      "cell_type": "markdown",
      "metadata": {
        "id": "GKtUYNjz69e3"
      },
      "source": [
        "**Decisión del Mejor Enfoque (Ruta B)**\n",
        "\n",
        "* Regresión:\n",
        "El modelo OLS mostró un desempeño limitado para predecir el valor exacto de la variable objetivo prenatal_adecuado.\n",
        "Obtuvo un MSE promedio de 0.0967 (± 0.0015) y un R² ajustado de 0.005, lo que indica que las variables explican una fracción muy pequeña de la variabilidad del fenómeno.\n",
        "Aun así, permitió identificar que el nivel educativo tiene un efecto positivo y significativo sobre la probabilidad de recibir atención prenatal adecuada (p < 0.001), mientras que la variable urbano no fue significativa (p = 0.564).\n",
        "En resumen, el modelo OLS aporta información sobre la dirección y magnitud de las relaciones, pero no es un buen predictor del fenómeno.\n",
        "\n",
        "* Clasificación:\n",
        "El modelo de Regresión Logística (Logit) presentó un accuracy promedio de 0.8910 y un F1-Score promedio de 0.9424, superando claramente al baseline (0.8910).\n",
        "Todas las variables fueron estadísticamente significativas (p < 0.05), y los odds ratios indican que un mayor nivel educativo y de riqueza aumentan las probabilidades de recibir atención prenatal adecuada, mientras que vivir en zona rural reduce dichas probabilidades.\n",
        "El modelo mostró alta capacidad para clasificar correctamente los casos positivos y negativos, con resultados coherentes con la teoría y la evidencia empírica.\n",
        "\n",
        "Conclusión:\n",
        "\n",
        "Dado que el propósito central de la investigación es identificar los factores que influyen en la probabilidad de recibir atención prenatal adecuada, el enfoque de clasificación (Logit) es el más útil e informativo.\n",
        "Este modelo no solo ofrece mejor desempeño predictivo, sino que además permite interpretar las relaciones en términos de probabilidades y riesgos relativos, aportando evidencia más clara y aplicable para la toma de decisiones en salud pública"
      ]
    },
    {
      "cell_type": "markdown",
      "metadata": {
        "id": "0kNeCuYj69e3"
      },
      "source": [
        "---\n",
        "## 5. Evaluación Final sobre el Conjunto de Prueba (Test Set)\n",
        "\n",
        "**¡Llegó el momento de la verdad!**\n",
        "\n",
        "Ahora tomamos el **único modelo ganador** que elegimos en la sección anterior, lo re-entrenamos con **TODO** el conjunto de entrenamiento (`X_train`, `y_train`) y lo evaluamos en el conjunto de prueba (`X_test`, `y_test`) que habíamos guardado."
      ]
    },
    {
      "cell_type": "code",
      "execution_count": 42,
      "metadata": {
        "id": "lYNYZ3j469e4",
        "colab": {
          "base_uri": "https://localhost:8080/"
        },
        "outputId": "5dd44022-2754-4e8c-82a7-cc4b121ad5c5"
      },
      "outputs": [
        {
          "output_type": "stream",
          "name": "stdout",
          "text": [
            "\n",
            "--- Evaluación Final del Modelo de Clasificación ---\n",
            "              precision    recall  f1-score   support\n",
            "\n",
            "           0       0.00      0.00      0.00      1879\n",
            "           1       0.89      1.00      0.94     15352\n",
            "\n",
            "    accuracy                           0.89     17231\n",
            "   macro avg       0.45      0.50      0.47     17231\n",
            "weighted avg       0.79      0.89      0.84     17231\n",
            "\n"
          ]
        },
        {
          "output_type": "stream",
          "name": "stderr",
          "text": [
            "/usr/local/lib/python3.12/dist-packages/sklearn/metrics/_classification.py:1565: UndefinedMetricWarning: Precision is ill-defined and being set to 0.0 in labels with no predicted samples. Use `zero_division` parameter to control this behavior.\n",
            "  _warn_prf(average, modifier, f\"{metric.capitalize()} is\", len(result))\n",
            "/usr/local/lib/python3.12/dist-packages/sklearn/metrics/_classification.py:1565: UndefinedMetricWarning: Precision is ill-defined and being set to 0.0 in labels with no predicted samples. Use `zero_division` parameter to control this behavior.\n",
            "  _warn_prf(average, modifier, f\"{metric.capitalize()} is\", len(result))\n",
            "/usr/local/lib/python3.12/dist-packages/sklearn/metrics/_classification.py:1565: UndefinedMetricWarning: Precision is ill-defined and being set to 0.0 in labels with no predicted samples. Use `zero_division` parameter to control this behavior.\n",
            "  _warn_prf(average, modifier, f\"{metric.capitalize()} is\", len(result))\n"
          ]
        }
      ],
      "source": [
        "# --- REEMPLAZAMOS CON EL MODELO GANADOR ---\n",
        "\n",
        "# El mejor modelo fue de CLASIFICACIÓN (ej. Logit):\n",
        "best_model_class = LogisticRegression(random_state=42, max_iter=1000)\n",
        "best_model_class.fit(X_train_c, y_train_c)\n",
        "final_predictions_c = best_model_class.predict(X_test_c)\n",
        "print(\"\\n--- Evaluación Final del Modelo de Clasificación ---\")\n",
        "print(classification_report(y_test_c, final_predictions_c))"
      ]
    },
    {
      "cell_type": "markdown",
      "metadata": {
        "id": "MxmvJ_xh69fC"
      },
      "source": [
        "**Análisis de Resultados Finales**\n",
        "\n",
        "El modelo ganador de clasificación (Regresión Logística) fue evaluado sobre el conjunto de prueba (test set) para medir su capacidad de generalización. Los resultados fueron los siguientes:\n",
        "\n",
        "* Accuracy (test): 0.89\n",
        "\n",
        "* F1-score (test): 0.94\n",
        "\n",
        "* Precisión clase 1 (atención prenatal adecuada): 0.89\n",
        "\n",
        "* Recall clase 1: 1.00\n",
        "\n",
        "* Precisión clase 0 (sin atención adecuada): 0.00\n",
        "\n",
        "En comparación con la validación cruzada, donde el modelo obtuvo un accuracy promedio de 0.8910 y un F1-Score promedio de 0.9424, los resultados en el conjunto de prueba son prácticamente idénticos, lo que indica que el modelo no presenta sobreajuste (overfitting) y mantiene un desempeño estable en datos nuevos.\n",
        "\n",
        "\n",
        "En general, el modelo generaliza bien, reproduce el rendimiento estimado en validación cruzada y puede considerarse una herramienta útil para identificar factores asociados con la atención prenatal adecuada y predecir su ocurrencia en nuevos datos."
      ]
    },
    {
      "cell_type": "markdown",
      "metadata": {
        "id": "ontJU7j069fC"
      },
      "source": [
        "## 6. Conclusiones\n",
        "\n",
        "Resume los hallazgos clave de tu trabajo.\n",
        "\n",
        "[ESCRIBE AQUÍ]\n",
        "\n",
        "* **Pregunta de investigación:** ¿Cuál fue la pregunta que buscabas responder?\n",
        "* **Modelo ganador:** ¿Qué modelo elegiste y por qué? ¿Cuál fue su rendimiento final?\n",
        "* **Hallazgos clave:** ¿Qué variables resultaron ser predictores importantes? ¿Confirman o contradicen la teoría económica?\n",
        "* **Limitaciones:** ¿Qué limitaciones tiene tu análisis? (ej. variables omitidas, tamaño de la muestra, forma funcional simple).\n",
        "* **Próximos pasos:** Si tuvieras más tiempo, ¿qué otras cosas probarías? (ej. modelos más complejos, ingeniería de características adicional, etc.)."
      ]
    }
  ],
  "metadata": {
    "kernelspec": {
      "display_name": "Python 3",
      "language": "python",
      "name": "python3"
    },
    "language_info": {
      "codemirror_mode": {
        "name": "ipython",
        "version": 3
      },
      "file_extension": ".py",
      "mimetype": "text/x-python",
      "name": "python",
      "nbconvert_exporter": "python",
      "pygments_lexer": "ipython3",
      "version": "3.9.7"
    },
    "colab": {
      "provenance": []
    }
  },
  "nbformat": 4,
  "nbformat_minor": 0
}